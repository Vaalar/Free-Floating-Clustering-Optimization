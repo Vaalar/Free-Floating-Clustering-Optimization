{
 "cells": [
  {
   "attachments": {},
   "cell_type": "markdown",
   "metadata": {},
   "source": [
    "# Implementación del algoritmo K-means++ con cálculo del número de clústeres relativamente oṕtimo para puntos con movimiento aleatorio y predicción de cambio en el tiempo."
   ]
  },
  {
   "attachments": {},
   "cell_type": "markdown",
   "metadata": {},
   "source": [
    "A diferencia con los otros notebooks, este se va a utlizar para mostrar el algoritmo completo, como si de un único archivo se tratase. Con ello podemos controlar mejor la ejecución del algoritmo."
   ]
  },
  {
   "attachments": {},
   "cell_type": "markdown",
   "metadata": {},
   "source": [
    "Importamos las librerías que vamos a emplear, cargamos y representamos los puntos:"
   ]
  },
  {
   "cell_type": "code",
   "execution_count": 17,
   "metadata": {},
   "outputs": [
    {
     "data": {
      "image/png": "[encoded data removed]",
      "text/plain": [
       "<Figure size 640x480 with 1 Axes>"
      ]
     },
     "metadata": {},
     "output_type": "display_data"
    }
   ],
   "source": [
    "import matplotlib.pyplot as plt\n",
    "import random\n",
    "import math\n",
    "from sklearn import metrics\n",
    "\n",
    "with open(\"Datasets/dataset1.csv\") as input_file:\n",
    "    input_values = input_file.read()\n",
    "\n",
    "x = [] # Lista de valores x\n",
    "y = [] # Lista de valores y\n",
    "point_class = [] # Lista de valores de los puntos\n",
    "input_offset = 3\n",
    "input_values = input_values.splitlines()[1 :: ]\n",
    "for point in input_values:\n",
    "    splitted_point = point.split(\",\")\n",
    "    x.append(float(splitted_point[0]))\n",
    "    y.append(float(splitted_point[1]))\n",
    "    point_class.append(float(splitted_point[2]))\n",
    "\n",
    "plt.ylim(min(y) - 1, max(y) + 1)\n",
    "plt.xlim(min(x) - 1, max(x) + 1)\n",
    "plt.scatter(x, y)\n",
    "plt.show()\n"
   ]
  },
  {
   "attachments": {},
   "cell_type": "markdown",
   "metadata": {},
   "source": [
    "Implementamos el algoritmo:"
   ]
  },
  {
   "cell_type": "code",
   "execution_count": 18,
   "metadata": {},
   "outputs": [],
   "source": [
    "def mean(list): # Función que calcula la media de una lista\n",
    "    acc = 0\n",
    "    for i in list:\n",
    "        acc = acc + i\n",
    "    return acc/len(list)\n",
    "\n",
    "def initialize(k=\"Number of centroids\", d=\"Data points\"):\n",
    "    centroids = []\n",
    "    point_distance_to_centroids = [[]] # Guarda la distancia de cada punto a cada centroide\n",
    "    distance_to_first_centroid = []\n",
    "    # Escojo como primer centroide el valor más cercano a la media\n",
    "    mean_x_coord = mean(d[0])\n",
    "    mean_y_coord = mean(d[1])\n",
    "    \n",
    "    for point_index in range(len(d[0])): # Calculo la distancia \n",
    "        distance_to_first_centroid.append(abs(math.sqrt(pow(mean_x_coord - d[0][point_index], 2) + (pow(mean_y_coord - d[1][point_index], 2)))))\n",
    "    \n",
    "    # Una vez calculadas todas las distancias escogemos el primer centro:\n",
    "    point_position = distance_to_first_centroid.index(min(distance_to_first_centroid))\n",
    "    centroids.append((d[0][point_position], d[1][point_position], point_class[point_position]))\n",
    "    \n",
    "    assigned_centroid = [[0] for i in range(len(d[0]))] # Captura el índice del centroide al que se asignará cada punto\n",
    "    clusters = [] # Guarda los puntos que tiene asignados cada clúster\n",
    "    # Calculo la distancia de todos los puntos a este centroide\n",
    "    for point_index in range(len(d[0])):\n",
    "        point_distance_to_centroids[0].append(abs(math.sqrt(pow(centroids[0][0] - d[0][point_index], 2) + (pow(centroids[0][1] - d[1][point_index], 2)))))\n",
    "\n",
    "    clusters = point_distance_to_centroids[0].copy()\n",
    "    \n",
    "    # Calculo el siguiente centroide, que va a ser el punto más lejano del centroide calculado anteriormente\n",
    "    for n_centroid in range(1, k):\n",
    "        for i in range(len(assigned_centroid)): # Me aseguro de solo usar los puntos asignados al centroide anterior al que quiero calcular ahora\n",
    "            if assigned_centroid[i] != n_centroid - 1:\n",
    "                clusters[i] = -1\n",
    "        point_position = clusters.index(max(clusters))\n",
    "        \n",
    "        centroids.append((d[0][point_position], d[1][point_position], point_class[point_position]))\n",
    "\n",
    "        # Una vez hallado el siguiente centroide procedemos a calcular las distancias de él a todos los puntos\n",
    "        point_distance_to_centroids.append([]) # Metemos una lista para las distancias al nuevo centroide\n",
    "        for point_index in range(len(d[0])):\n",
    "            point_distance_to_centroids[n_centroid].append(abs(math.sqrt(pow(centroids[n_centroid][0] - d[0][point_index], 2) + (pow(centroids[n_centroid][1] - d[1][point_index], 2)))))\n",
    "        \n",
    "        # Procedemos a asignar a cada punto el centroide más cercano\n",
    "        for point_index in range(len(d[0])):\n",
    "            assigned_centroid[point_index] = []\n",
    "            for centroid_index in range(len(centroids)):\n",
    "                assigned_centroid[point_index].append(point_distance_to_centroids[centroid_index][point_index])\n",
    "            point_distance_to_centroids[n_centroid][point_index] = min(assigned_centroid[point_index])\n",
    "            assigned_centroid[point_index] = assigned_centroid[point_index].index(min(assigned_centroid[point_index]))\n",
    "        # Actualizo los valores de las distancias de los puntos para la siguiente iteración\n",
    "        clusters = point_distance_to_centroids[n_centroid].copy()\n",
    "\n",
    "                \n",
    "    clusters = [] # Reinicializo los clúster iniciales a 0\n",
    "    old_centroids = []\n",
    "    for i in range(k): # Incializo los clústeres iniciales.\n",
    "        old_centroids.append([[], [], []])\n",
    "        clusters.append([[], [], []])\n",
    "    \n",
    "    return centroids, old_centroids, clusters;    \n",
    "    \n",
    "\n",
    "def Kmeans(k=\"Number of centroids\", d=\"Data points\"):\n",
    "    centroids, old_centroids, clusters = initialize(k, d) # Calculamos los centroides iniciales y creamos k clusters\n",
    "    isFirstIteration = True\n",
    "\n",
    "    while(centroids != old_centroids): # Mientras los centros no sean iguales a los antiguos centros, prosigo con el algoritmo\n",
    "        labels = [] # Guarda el índice del clúster al que está asignado cada punto\n",
    "        for i in range(k):\n",
    "            clusters[i] = [[], [], []] # Borramos el cluster creado para crear uno nuevo\n",
    "\n",
    "        for i in range(len(d[0])): \n",
    "            distance_to_centroids = [] \n",
    "            # Calculo la distancia a cada uno de los centroides \n",
    "            for centroid in centroids:\n",
    "                distance_to_centroids.append(abs(math.sqrt((centroid[0] - d[0][i]) ** 2) + ((centroid[1] - d[1][i]) ** 2)))\n",
    "\n",
    "            # Cojo el índice del cluster que más cerca está de mi punto\n",
    "            cluster_number = distance_to_centroids.index(min(distance_to_centroids))\n",
    "            labels.append(cluster_number)\n",
    "            # Asigno al cluster el punto\n",
    "            clusters[cluster_number][0].append(d[0][i])\n",
    "            clusters[cluster_number][1].append(d[1][i])\n",
    "            clusters[cluster_number][2].append(d[2][i])\n",
    "\n",
    "        # Recalculamos los centros calculando el punto más cercano a la media del cluster\n",
    "        cluster_number = 0 # Usado como índice para recorrer los clusteres \n",
    "        for ([coord_x, coord_y, point_c]) in clusters:\n",
    "            mean_x = mean(coord_x) # Calculo la media para recomputar el centroide\n",
    "            mean_y = mean(coord_y)\n",
    "            # Guardo los centroides que tenía para comprobar más tarde en la condición de parada \n",
    "            old_centroids[cluster_number] = centroids[cluster_number]\n",
    "            # Reasigno los centroides\n",
    "            centroids[cluster_number] = (mean_x, mean_y, -1)\n",
    "            # Actualizo el índice para acceder al siguiente cluster en la siguiente interación\n",
    "            cluster_number += 1\n",
    "        \n",
    "    return centroids, clusters, labels\n",
    "    \n",
    "def executeAndShowKmeans(max_clusters):\n",
    "    n_max_clusteres = max_clusters\n",
    "    n_clusters_list = []\n",
    "    clusters_CH_index = []\n",
    "    centroids_list = []\n",
    "    labels_list = []\n",
    "\n",
    "    # Calculamos N clústeres para comprobar cual es la agrupación óptima.\n",
    "    for n_clusters in range(2, n_max_clusteres):\n",
    "        centroids, clusters, labels = Kmeans(n_clusters, (x, y, point_class)) # Capturamos los clústeres y las etiquetas \n",
    "        \n",
    "        # Calculamos el índice de Calinski-Harabasz utilizando el método proprocionado por la biblioteca scikit.learn.\n",
    "        clusters_CH_index.append(metrics.calinski_harabasz_score(list(zip(x,y)), labels))\n",
    "        n_clusters_list.append(clusters)\n",
    "        centroids_list.append(centroids)\n",
    "        labels_list.append(labels)\n",
    "\n",
    "    # Escogemos la agrupación de clústeres con el mayor índice como el óptimo relativo\n",
    "    i = clusters_CH_index.index(max(clusters_CH_index))\n",
    "    clusters = n_clusters_list[i]\n",
    "    labels = labels_list[i] # Guarda las etiquetas de a que cluster está asignado cada punto\n",
    "\n",
    "    print(i + 2)\n",
    "    print(\"Mostrando:\")\n",
    "    show_clusters(clusters)\n",
    "    \n",
    "    return centroids_list[i].copy(), labels, clusters\n",
    "\n",
    "def hasSignificantVariation(oldPoints, newPoints, centroids, labels, movement=0.001):\n",
    "    reasigned_points = reasignPoints(centroids, labels, newPoints) # reasigna los puntos a otro centroide si estos puntos han variado lo suficiente\n",
    "    if(len(reasigned_points) > len(oldPoints[0]) * 0.05): # Si varían el 5% de los puntos a la vez, se recalculan los clusteres\n",
    "        return reasigned_points, True\n",
    "    else:\n",
    "        return reasigned_points, False\n",
    "\n",
    "# Implementamos el movimiento aleatorio de los puntos. Este calcula la variación de forma independiente para cada coordenada\n",
    "# de cada punto.\n",
    "def movePoints(old_x, old_y, probability=15, movement=0.1):\n",
    "    # Ajustamos la cantidad de movimiento a escala con el \n",
    "    max_distance_x = (max(old_x) - min(old_x)) * movement\n",
    "    max_distance_y = (max(old_y) - min(old_y)) * movement\n",
    "    for i in range(0, len(old_x)):\n",
    "        if(probability > random.randrange(0, 100)):\n",
    "            if(50 < random.randrange(0, 100)):\n",
    "                x.append(old_x[i] + random.uniform(0, max_distance_x))\n",
    "                if(50 < random.randrange(0, 100)):\n",
    "                    y.append(old_y[i] + random.uniform(0, max_distance_y))\n",
    "                else:\n",
    "                    y.append(old_y[i] - random.uniform(0, max_distance_y))\n",
    "            else:\n",
    "                x.append(old_x[i] - random.uniform(0, max_distance_x))\n",
    "                if(50 < random.randrange(0, 100)):\n",
    "                    y.append(old_y[i] + random.uniform(0, max_distance_y))\n",
    "                else:\n",
    "                    y.append(old_y[i] - random.uniform(0, max_distance_y))\n",
    "        else:\n",
    "            x.append(old_x[i])\n",
    "            y.append(old_y[i])\n",
    "\n",
    "def reasignPoints(centroids, labels, newPoints): # Comprueba si han cambiado puntos de un cluster a otro\n",
    "    reasigned_points = [] # Guarda el indice de los puntos que se han cambiado de cluster y el cluster al que se asignan\n",
    "    for i in range(len(labels)):\n",
    "        distance_to_centroids = []\n",
    "        for centroid in centroids:\n",
    "            distance_to_centroids.append(math.sqrt(pow((centroid[0] - newPoints[0][i]), 2) + pow((centroid[1] - newPoints[1][i]), 2)))\n",
    "        closest_centroid_index = distance_to_centroids.index(min(distance_to_centroids))\n",
    "        if(closest_centroid_index != labels[i]):\n",
    "            reasigned_points.append((i, closest_centroid_index))\n",
    "    return reasigned_points\n",
    "\n",
    "def show_clusters(clusters):\n",
    "    for cluster in clusters:\n",
    "        plt.ylim(min(y) - 1, max(y) + 1)\n",
    "        plt.xlim(min(x) - 1, max(x) + 1)\n",
    "        plt.scatter(cluster[0], cluster[1])\n",
    "    plt.show()\n",
    "\n",
    "def reasign_and_show(reasigned_points, labels):\n",
    "    reasigned_points_index = 0 # Indica por que punto de reasignación voy\n",
    "    clusters = []\n",
    "    for i in range(max(labels) + 1):\n",
    "        clusters.append([[], [], []])\n",
    "\n",
    "    # Copia los clusteres con los puntos reasignados\n",
    "    for i in range(len(labels)):\n",
    "        if(reasigned_points_index < len(reasigned_points) and i == reasigned_points[reasigned_points_index][0]):            \n",
    "            clusters[reasigned_points[reasigned_points_index][1]][0].append(x[i])\n",
    "            clusters[reasigned_points[reasigned_points_index][1]][1].append(y[i])\n",
    "            clusters[reasigned_points[reasigned_points_index][1]][2].append(point_class[i])\n",
    "            labels[i] = reasigned_points[reasigned_points_index][1]\n",
    "            reasigned_points_index = reasigned_points_index + 1\n",
    "        else:\n",
    "            clusters[labels[i]][0].append(x[i])\n",
    "            clusters[labels[i]][1].append(y[i])\n",
    "            clusters[labels[i]][2].append(point_class[i])\n",
    "            \n",
    "    show_clusters(clusters)\n",
    "    return labels\n",
    "                "
   ]
  },
  {
   "attachments": {},
   "cell_type": "markdown",
   "metadata": {},
   "source": [
    "Inicialización de los valores que usará del algoritmo sobre el conjunto de datos. El clúster que se muestra a continuación, es la configuración de clústeres inicial desde la que se parte."
   ]
  },
  {
   "cell_type": "code",
   "execution_count": 19,
   "metadata": {},
   "outputs": [
    {
     "name": "stdout",
     "output_type": "stream",
     "text": [
      "7\n",
      "Mostrando:\n"
     ]
    },
    {
     "data": {
      "image/png": "[encoded data removed]",
      "text/plain": [
       "<Figure size 640x480 with 1 Axes>"
      ]
     },
     "metadata": {},
     "output_type": "display_data"
    }
   ],
   "source": [
    "optimal_centroids = [] # Almacena los centroides de la configuración óptima relativa hallada\n",
    "labels = [] # Almacena el índice de el clúster al que está asignado cada punto\n",
    "optimal_centroids, labels, optimal_clusters = executeAndShowKmeans(10)\n",
    "accumulated_reasigned_points = 0 # Indica cuantos puntos se han reasignado desde que se realizó la última clusterización"
   ]
  },
  {
   "cell_type": "markdown",
   "metadata": {},
   "source": [
    "A continuación, se muestra la variación de los puntos del clúster en el tiempo."
   ]
  },
  {
   "cell_type": "code",
   "execution_count": 20,
   "metadata": {},
   "outputs": [
    {
     "ename": "ZeroDivisionError",
     "evalue": "division by zero",
     "output_type": "error",
     "traceback": [
      "\u001b[0;31m---------------------------------------------------------------------------\u001b[0m",
      "\u001b[0;31mZeroDivisionError\u001b[0m                         Traceback (most recent call last)",
      "Cell \u001b[0;32mIn [20], line 17\u001b[0m\n\u001b[1;32m     14\u001b[0m \u001b[39m# Reconfiguramos los clusters si muchos puntos han cambiado de cluster en un mismo instante, o si llevamos una acumulación de puntos movidos\u001b[39;00m\n\u001b[1;32m     15\u001b[0m \u001b[39m# desde la última reconfiguración de al menos el 5% de los puntos del dataset.\u001b[39;00m\n\u001b[1;32m     16\u001b[0m \u001b[39mif\u001b[39;00m(accumulated_reasigned_points \u001b[39m>\u001b[39m (\u001b[39mlen\u001b[39m(labels) \u001b[39m*\u001b[39m \u001b[39m0.05\u001b[39m) \u001b[39mor\u001b[39;00m variated):\n\u001b[0;32m---> 17\u001b[0m     optimal_centroids, labels, optimal_clusters \u001b[39m=\u001b[39m executeAndShowKmeans(\u001b[39m10\u001b[39;49m)\n\u001b[1;32m     18\u001b[0m     \u001b[39mprint\u001b[39m(\u001b[39m\"\u001b[39m\u001b[39mRecalculado\u001b[39m\u001b[39m\"\u001b[39m)\n\u001b[1;32m     19\u001b[0m     accumulated_reasigned_points \u001b[39m=\u001b[39m \u001b[39m0\u001b[39m\n",
      "Cell \u001b[0;32mIn [18], line 110\u001b[0m, in \u001b[0;36mexecuteAndShowKmeans\u001b[0;34m(max_clusters)\u001b[0m\n\u001b[1;32m    108\u001b[0m \u001b[39m# Calculamos N clústeres para comprobar cual es la agrupación óptima.\u001b[39;00m\n\u001b[1;32m    109\u001b[0m \u001b[39mfor\u001b[39;00m n_clusters \u001b[39min\u001b[39;00m \u001b[39mrange\u001b[39m(\u001b[39m2\u001b[39m, n_max_clusteres):\n\u001b[0;32m--> 110\u001b[0m     centroids, clusters, labels \u001b[39m=\u001b[39m Kmeans(n_clusters, (x, y, point_class)) \u001b[39m# Capturamos los clústeres y las etiquetas \u001b[39;00m\n\u001b[1;32m    112\u001b[0m     \u001b[39m# Calculamos el índice de Calinski-Harabasz utilizando el método proprocionado por la biblioteca scikit.learn.\u001b[39;00m\n\u001b[1;32m    113\u001b[0m     clusters_CH_index\u001b[39m.\u001b[39mappend(metrics\u001b[39m.\u001b[39mcalinski_harabasz_score(\u001b[39mlist\u001b[39m(\u001b[39mzip\u001b[39m(x,y)), labels))\n",
      "Cell \u001b[0;32mIn [18], line 90\u001b[0m, in \u001b[0;36mKmeans\u001b[0;34m(k, d)\u001b[0m\n\u001b[1;32m     88\u001b[0m cluster_number \u001b[39m=\u001b[39m \u001b[39m0\u001b[39m \u001b[39m# Usado como índice para recorrer los clusteres \u001b[39;00m\n\u001b[1;32m     89\u001b[0m \u001b[39mfor\u001b[39;00m ([coord_x, coord_y, point_c]) \u001b[39min\u001b[39;00m clusters:\n\u001b[0;32m---> 90\u001b[0m     mean_x \u001b[39m=\u001b[39m mean(coord_x) \u001b[39m# Calculo la media para recomputar el centroide\u001b[39;00m\n\u001b[1;32m     91\u001b[0m     mean_y \u001b[39m=\u001b[39m mean(coord_y)\n\u001b[1;32m     92\u001b[0m     \u001b[39m# Guardo los centroides que tenía para comprobar más tarde en la condición de parada \u001b[39;00m\n",
      "Cell \u001b[0;32mIn [18], line 5\u001b[0m, in \u001b[0;36mmean\u001b[0;34m(list)\u001b[0m\n\u001b[1;32m      3\u001b[0m \u001b[39mfor\u001b[39;00m i \u001b[39min\u001b[39;00m \u001b[39mlist\u001b[39m:\n\u001b[1;32m      4\u001b[0m     acc \u001b[39m=\u001b[39m acc \u001b[39m+\u001b[39m i\n\u001b[0;32m----> 5\u001b[0m \u001b[39mreturn\u001b[39;00m acc\u001b[39m/\u001b[39;49m\u001b[39mlen\u001b[39;49m(\u001b[39mlist\u001b[39;49m)\n",
      "\u001b[0;31mZeroDivisionError\u001b[0m: division by zero"
     ]
    }
   ],
   "source": [
    "for i in range(0, 8):\n",
    "    old_x = x.copy()\n",
    "    old_y = y.copy()\n",
    "    x.clear()\n",
    "    y.clear()\n",
    "    movePoints(old_x, old_y, 20, 0.1) # Mueve los puntos con un valor de 20% de probabilidad de èxito para cada punto\n",
    "\n",
    "    # Variated guarda el valor booleano acerca de si variaron el número de puntos suficientes\n",
    "    # Reasigned_points guarda los puntos que variaron para modificarlos en el clúster correspondiente\n",
    "    # Considero que el dataset ha variado sí hay un 10% de puntos que han cambiado su cluster\n",
    "    reasigned_points, variated = hasSignificantVariation((old_x, old_y, point_class), (x, y, point_class), optimal_centroids, labels)\n",
    "    accumulated_reasigned_points = accumulated_reasigned_points + len(reasigned_points) \n",
    "    \n",
    "    # Reconfiguramos los clusters si muchos puntos han cambiado de cluster en un mismo instante, o si llevamos una acumulación de puntos movidos\n",
    "    # desde la última reconfiguración de al menos el 5% de los puntos del dataset.\n",
    "    if(accumulated_reasigned_points > (len(labels) * 0.05) or variated):\n",
    "        optimal_centroids, labels, optimal_clusters = executeAndShowKmeans(10)\n",
    "        print(\"Recalculado\")\n",
    "        accumulated_reasigned_points = 0\n",
    "    else: # Si no ha variado lo suficiente, reasignamos los puntos a los clusteres correspodientes y los representamos\n",
    "        print(reasigned_points)\n",
    "        labels = reasign_and_show(reasigned_points, labels)"
   ]
  }
 ],
 "metadata": {
  "kernelspec": {
   "display_name": "Python 3",
   "language": "python",
   "name": "python3"
  },
  "language_info": {
   "codemirror_mode": {
    "name": "ipython",
    "version": 3
   },
   "file_extension": ".py",
   "mimetype": "text/x-python",
   "name": "python",
   "nbconvert_exporter": "python",
   "pygments_lexer": "ipython3",
   "version": "3.10.9"
  },
  "orig_nbformat": 4,
  "vscode": {
   "interpreter": {
    "hash": "e7370f93d1d0cde622a1f8e1c04877d8463912d04d973331ad4851f04de6915a"
   }
  }
 },
 "nbformat": 4,
 "nbformat_minor": 2
}
